{
 "cells": [
  {
   "cell_type": "markdown",
   "metadata": {},
   "source": [
    "Ref:\n",
    "- [3b1b Fourier Transform Video](https://www.youtube.com/watch?v=spUNpyF58BY&t=16s&ab_channel=3Blue1Brown)\n",
    "- [FFT Tourism SO](https://stackoverflow.com/questions/28009590/understanding-the-radix-2-fft-recursive-algorithm)"
   ]
  },
  {
   "cell_type": "markdown",
   "metadata": {},
   "source": []
  }
 ],
 "metadata": {
  "language_info": {
   "name": "python"
  }
 },
 "nbformat": 4,
 "nbformat_minor": 2
}
